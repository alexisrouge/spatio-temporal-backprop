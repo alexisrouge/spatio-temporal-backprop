{
 "cells": [
  {
   "cell_type": "markdown",
   "metadata": {},
   "source": [
    "# Implementation of Wu et al Spatio-Temporal Back Propagation.\n",
    "### Implementation with Nest neurons `iaf_psc_delta`\n",
    "\n",
    "See the math in README.ipynb"
   ]
  },
  {
   "cell_type": "code",
   "execution_count": 1,
   "metadata": {},
   "outputs": [],
   "source": [
    "import os,sys\n",
    "sys.path.insert(1, os.path.join(sys.path[0], '..'))\n",
    "\n",
    "import numpy as np\n",
    "import matplotlib.pyplot as plt\n",
    "import data_loader\n",
    "from model import LIF_network\n",
    "from solver import Solver\n",
    "import time\n",
    "import pickle\n",
    "import nest\n",
    "\n",
    "%load_ext autoreload\n",
    "%autoreload 2"
   ]
  },
  {
   "cell_type": "code",
   "execution_count": 2,
   "metadata": {},
   "outputs": [],
   "source": [
    "num_classes = 10\n",
    "(x_train, y_train),(x_test, y_test) = data_loader.load(path='../dataset')\n",
    "one_hot_train, one_hot_test = data_loader.one_hot_encode(y_train, y_test, num_classes)"
   ]
  },
  {
   "cell_type": "code",
   "execution_count": 129,
   "metadata": {},
   "outputs": [],
   "source": [
    "nest.ResetKernel()\n",
    "model = LIF_network(hidden_size=10, T=30.)"
   ]
  },
  {
   "cell_type": "code",
   "execution_count": 130,
   "metadata": {
    "scrolled": false
   },
   "outputs": [
    {
     "data": {
      "image/png": "[encoded data removed]",
      "text/plain": [
       "<Figure size 720x576 with 3 Axes>"
      ]
     },
     "metadata": {
      "needs_background": "light"
     },
     "output_type": "display_data"
    }
   ],
   "source": [
    "n_samp = 1\n",
    "samples = x_train[:n_samp]\n",
    "nest.ResetNetwork()\n",
    "model.run(samples)\n",
    "model.store()\n",
    "#cumU = np.cumsum(model.hidden.potential, axis=1)\n",
    "#cumO = np.cumsum(model.hidden.spikes, axis=1)\n",
    "cumU = model.hidden.potential\n",
    "cumO = model.hidden.spikes\n",
    "idx = np.arange(10)\n",
    "for i in range(n_samp):\n",
    "    U = cumU[i, :, :10]\n",
    "    O = cumO[i, :, :10]\n",
    "    #print(\"True label is\", y_train[i])\n",
    "    plt.figure(i, figsize=(10,8))\n",
    "    plt.subplot(131)\n",
    "    plt.plot(U)\n",
    "    plt.legend(idx)\n",
    "    plt.title(\"Accumulated potential\")\n",
    "    plt.subplot(132)\n",
    "    plt.plot(O)\n",
    "    plt.legend(idx)\n",
    "    plt.title(\"Accumulated spikes\")\n",
    "    plt.subplot(133)\n",
    "    plt.imshow(np.reshape(samples[i], (28,28)), cmap=plt.cm.binary)\n"
   ]
  },
  {
   "cell_type": "code",
   "execution_count": 131,
   "metadata": {},
   "outputs": [
    {
     "data": {
      "text/plain": [
       "[<matplotlib.lines.Line2D at 0x7f16d606e160>]"
      ]
     },
     "execution_count": 131,
     "metadata": {},
     "output_type": "execute_result"
    },
    {
     "data": {
      "image/png": "[encoded data removed]",
      "text/plain": [
       "<Figure size 432x288 with 1 Axes>"
      ]
     },
     "metadata": {
      "needs_background": "light"
     },
     "output_type": "display_data"
    }
   ],
   "source": [
    "dSD = nest.GetStatus(model.hidden.detector)[0]\n",
    "events = dSD[\"events\"][\"senders\"]\n",
    "ts = dSD[\"events\"][\"times\"]\n",
    "#Vm2 = dmm[\"events\"][\"V_m\"][1::num_class]\n",
    "#t2 = dmm[\"events\"][\"times\"][1::num_class]\n",
    "\n",
    "plt.figure(1)\n",
    "#pylab.plot(t1, np.cumsum(Vm1))\n",
    "plt.plot(ts, events, '.')"
   ]
  },
  {
   "cell_type": "code",
   "execution_count": 132,
   "metadata": {
    "scrolled": true
   },
   "outputs": [
    {
     "data": {
      "text/plain": [
       "[<matplotlib.lines.Line2D at 0x7f16d5944e10>]"
      ]
     },
     "execution_count": 132,
     "metadata": {},
     "output_type": "execute_result"
    },
    {
     "data": {
      "image/png": "[encoded data removed]",
      "text/plain": [
       "<Figure size 432x288 with 1 Axes>"
      ]
     },
     "metadata": {
      "needs_background": "light"
     },
     "output_type": "display_data"
    }
   ],
   "source": [
    "dmm = nest.GetStatus(model.hidden.multimeter)[0]\n",
    "events = dmm[\"events\"][\"senders\"] == 786\n",
    "Vm = dmm[\"events\"][\"V_m\"][events]\n",
    "tm = dmm[\"events\"][\"times\"][events]\n",
    "#Vm2 = dmm[\"events\"][\"V_m\"][1::num_class]\n",
    "#t2 = dmm[\"events\"][\"times\"][1::num_class]\n",
    "\n",
    "plt.figure(1)\n",
    "#pylab.plot(t1, np.cumsum(Vm1))\n",
    "plt.plot(tm, Vm)"
   ]
  },
  {
   "cell_type": "code",
   "execution_count": 86,
   "metadata": {},
   "outputs": [],
   "source": [
    "solver = Solver(n_epochs=3, batch_size=20)"
   ]
  },
  {
   "cell_type": "code",
   "execution_count": 87,
   "metadata": {
    "scrolled": true
   },
   "outputs": [
    {
     "name": "stdout",
     "output_type": "stream",
     "text": [
      "epoch 1 has ended\n",
      "Loss: 0.3328637552634592\n",
      "Train Acc.: 0.05 Test Acc.: 0.1\n",
      "epoch 2 has ended\n",
      "epoch 3 has ended\n",
      "Loss: 0.33213267878563896\n",
      "Train Acc.: 0.05 Test Acc.: 0.1\n",
      "0.5982471267382304\n"
     ]
    }
   ],
   "source": [
    "start = time.time()\n",
    "n_train = 30\n",
    "n_test = 10\n",
    "solver.train(model, x_train[:n_train], one_hot_train[:n_train], x_test[:n_test], one_hot_test[:n_test])\n",
    "stop = time.time()\n",
    "print((stop-start)/60)"
   ]
  },
  {
   "cell_type": "code",
   "execution_count": 15,
   "metadata": {},
   "outputs": [],
   "source": [
    "dmm = nest.GetStatus(model.hidden.multimeter)[0]"
   ]
  },
  {
   "cell_type": "code",
   "execution_count": 126,
   "metadata": {},
   "outputs": [
    {
     "data": {
      "text/plain": [
       "(3, 100, 10)"
      ]
     },
     "execution_count": 126,
     "metadata": {},
     "output_type": "execute_result"
    }
   ],
   "source": [
    "cumU.shape"
   ]
  },
  {
   "cell_type": "code",
   "execution_count": 127,
   "metadata": {},
   "outputs": [
    {
     "data": {
      "text/plain": [
       "(302,)"
      ]
     },
     "execution_count": 127,
     "metadata": {},
     "output_type": "execute_result"
    }
   ],
   "source": [
    "np.unique(dmm[\"events\"][\"times\"]).shape\n"
   ]
  },
  {
   "cell_type": "code",
   "execution_count": 62,
   "metadata": {
    "scrolled": true
   },
   "outputs": [
    {
     "data": {
      "text/plain": [
       "0.1"
      ]
     },
     "execution_count": 62,
     "metadata": {},
     "output_type": "execute_result"
    }
   ],
   "source": [
    "nest.GetKernelStatus(\"min_delay\")"
   ]
  },
  {
   "cell_type": "code",
   "execution_count": 51,
   "metadata": {},
   "outputs": [
    {
     "data": {
      "text/plain": [
       "[<matplotlib.lines.Line2D at 0x7f994e946048>]"
      ]
     },
     "execution_count": 51,
     "metadata": {},
     "output_type": "execute_result"
    },
    {
     "data": {
      "image/png": "[encoded data removed]",
      "text/plain": [
       "<Figure size 432x288 with 1 Axes>"
      ]
     },
     "metadata": {
      "needs_background": "light"
     },
     "output_type": "display_data"
    }
   ],
   "source": [
    "dSD = nest.GetStatus(net.hidden.detector)[0]\n",
    "mask_1 = dSD[\"events\"][\"senders\"] == 3\n",
    "ts = dSD[\"events\"][\"times\"]#[::num_class]\n",
    "#Vm2 = dmm[\"events\"][\"V_m\"][1::num_class]\n",
    "#t2 = dmm[\"events\"][\"times\"][1::num_class]\n",
    "\n",
    "pylab.figure(1)\n",
    "#pylab.plot(t1, np.cumsum(Vm1))\n",
    "pylab.plot(ts, mask_1, '.')"
   ]
  },
  {
   "cell_type": "code",
   "execution_count": 11,
   "metadata": {},
   "outputs": [],
   "source": [
    "a = np.array([[1, 2], [3,4]])\n",
    "s = [{\"x\": a[i,j]} for j in range(2) for i in range(2)]"
   ]
  },
  {
   "cell_type": "code",
   "execution_count": 28,
   "metadata": {},
   "outputs": [
    {
     "data": {
      "text/plain": [
       "array([[-4.90671806,  1.30882504,  3.28160902, ...,  4.43150232,\n",
       "        -2.17100973,  2.64211879],\n",
       "       [ 2.35769597,  1.63033263,  4.48038785, ...,  4.218954  ,\n",
       "         4.72766268, -1.65827643],\n",
       "       [ 2.79725081, -1.17636862, -2.40341804, ...,  0.22246853,\n",
       "         0.65901157, -3.38707713],\n",
       "       ...,\n",
       "       [ 2.11021371, -2.87112791, -2.94893397, ..., -2.28661298,\n",
       "        -4.65939251,  0.9383759 ],\n",
       "       [ 0.41041125, -0.97506412,  0.09484044, ...,  2.92629972,\n",
       "        -1.89531049,  1.08912677],\n",
       "       [-3.53705819,  0.434167  , -3.01034593, ...,  0.94150698,\n",
       "         0.97217295,  3.2179692 ]])"
      ]
     },
     "execution_count": 28,
     "metadata": {},
     "output_type": "execute_result"
    }
   ],
   "source": [
    "model.hidden.W"
   ]
  },
  {
   "cell_type": "code",
   "execution_count": 156,
   "metadata": {},
   "outputs": [],
   "source": [
    "def initW(size_in, size_out):\n",
    "    # initialization function for network weights. Recommended form of Wu et al.\n",
    "    W = 2*np.random.random((size_out, size_in)) - 1\n",
    "    sqrW = W**2\n",
    "    normW = np.sqrt(np.sum(sqrW, axis=1)).reshape((size_out, 1))\n",
    "    return W / normW"
   ]
  },
  {
   "cell_type": "code",
   "execution_count": 495,
   "metadata": {},
   "outputs": [],
   "source": [
    "nest.ResetKernel()\n",
    "params = {\n",
    "    #\"E_L\": -80., # U_rest ie relaxed potential when I_e=0 (mV)\n",
    "    \"t_ref\": .1, # refactory time (no spikes during this time) (ms)\n",
    "    #\"V_m\": 0., # initial membrane potential (mV)\n",
    "    #\"V_min\": -.5, # minimal potential that the membrane can reach (mV)\n",
    "    #\"V_reset\": -70., # potential just after firing (mV)\n",
    "    \"V_th\": -55., # threshold potential (mV)\n",
    "    #\"C_m\": 1., # capacity of the membrane (pF)\n",
    "    \"tau_m\": 5.,# neuron exp time constant (ms)\n",
    "    \"tau_Ca\": 100.\n",
    "    #\"I_e\": 5. # input current (pA)\n",
    "}\n",
    "\n",
    "n_in = 10\n",
    "n_out = 1\n",
    "inpt = nest.Create(\"spike_generator\", n_in)\n",
    "#np.random.seed(1)\n",
    "rand = np.random.random(n_in)\n",
    "#nest.SetStatus(inpt, [{\"start\": 0., \"stop\": 100., \"rate\": rand[i]*999} for i in range(n_in)])\n",
    "nest.SetStatus(inpt, [{\"origin\": .1, \n",
    "                        \"start\": .1, \n",
    "                       \"stop\":10.1, \n",
    "                       \"spike_times\": np.linspace(.1, 10., rand[i]*50), \n",
    "                       \"allow_offgrid_times\":True} for i in range(n_in)])\n",
    "np.random.seed(0) \n",
    "weight = 1*initW(n_in, n_out)\n",
    "neurons = nest.Create(\"iaf_psc_delta\", n_out)\n",
    "nest.SetStatus(neurons, params)\n",
    "multi = nest.Create(\"multimeter\", params={\"withtime\":True,\n",
    "                                    \"record_from\":[\"V_m\"],\n",
    "                                    \"interval\":.1})\n",
    "detector = nest.Create(\"spike_detector\", params={\"withgid\": True,\n",
    "                                                \"withtime\": True})\n",
    "nest.Connect(multi, neurons)\n",
    "nest.Connect(inpt, neurons, syn_spec={\"model\": \"static_synapse\", \"weight\": weight, \"delay\": .2})\n",
    "nest.Connect(inpt, detector)\n",
    "nest.Connect(neurons, detector)\n",
    "\n",
    "\n",
    "nest.Simulate(10.)"
   ]
  },
  {
   "cell_type": "code",
   "execution_count": 496,
   "metadata": {},
   "outputs": [
    {
     "data": {
      "text/plain": [
       "[<matplotlib.lines.Line2D at 0x7f16cd4384e0>]"
      ]
     },
     "execution_count": 496,
     "metadata": {},
     "output_type": "execute_result"
    },
    {
     "data": {
      "image/png": "[encoded data removed]",
      "text/plain": [
       "<Figure size 432x288 with 1 Axes>"
      ]
     },
     "metadata": {
      "needs_background": "light"
     },
     "output_type": "display_data"
    }
   ],
   "source": [
    "dSD = nest.GetStatus(detector)[0]\n",
    "events = dSD[\"events\"][\"senders\"]\n",
    "ts = dSD[\"events\"][\"times\"]\n",
    "#Vm2 = dmm[\"events\"][\"V_m\"][1::num_class]\n",
    "#t2 = dmm[\"events\"][\"times\"][1::num_class]\n",
    "\n",
    "plt.figure(1)\n",
    "#pylab.plot(t1, np.cumsum(Vm1))\n",
    "plt.plot(ts, events, '.')"
   ]
  },
  {
   "cell_type": "code",
   "execution_count": 497,
   "metadata": {},
   "outputs": [
    {
     "data": {
      "text/plain": [
       "[<matplotlib.lines.Line2D at 0x7f16cd387f28>]"
      ]
     },
     "execution_count": 497,
     "metadata": {},
     "output_type": "execute_result"
    },
    {
     "data": {
      "image/png": "[encoded data removed]",
      "text/plain": [
       "<Figure size 432x288 with 1 Axes>"
      ]
     },
     "metadata": {
      "needs_background": "light"
     },
     "output_type": "display_data"
    }
   ],
   "source": [
    "dmm = nest.GetStatus(multi)[0]\n",
    "events = dmm[\"events\"][\"senders\"]\n",
    "Vm = dmm[\"events\"][\"V_m\"]\n",
    "tm = dmm[\"events\"][\"times\"]\n",
    "#Vm2 = dmm[\"events\"][\"V_m\"][1::num_class]\n",
    "#t2 = dmm[\"events\"][\"times\"][1::num_class]\n",
    "\n",
    "plt.figure(1)\n",
    "#pylab.plot(t1, np.cumsum(Vm1))\n",
    "plt.plot(tm, Vm)"
   ]
  },
  {
   "cell_type": "code",
   "execution_count": 488,
   "metadata": {},
   "outputs": [
    {
     "data": {
      "text/plain": [
       "array([[ 0.07087621,  0.31245058,  0.14921033,  0.06516947, -0.11085168,\n",
       "         0.21183528, -0.0906221 ,  0.56884643,  0.6732289 , -0.16924054]])"
      ]
     },
     "execution_count": 488,
     "metadata": {},
     "output_type": "execute_result"
    }
   ],
   "source": [
    "weight"
   ]
  },
  {
   "cell_type": "code",
   "execution_count": 467,
   "metadata": {},
   "outputs": [
    {
     "data": {
      "text/plain": [
       "[<matplotlib.lines.Line2D at 0x7f16cda2b7b8>]"
      ]
     },
     "execution_count": 467,
     "metadata": {},
     "output_type": "execute_result"
    },
    {
     "data": {
      "image/png": "[encoded data removed]",
      "text/plain": [
       "<Figure size 432x288 with 1 Axes>"
      ]
     },
     "metadata": {
      "needs_background": "light"
     },
     "output_type": "display_data"
    }
   ],
   "source": [
    "dmm = nest.GetStatus(multi)[0]\n",
    "events = dmm[\"events\"][\"senders\"]\n",
    "Vm = dmm[\"events\"][\"V_m\"]\n",
    "tm = dmm[\"events\"][\"times\"]\n",
    "#Vm2 = dmm[\"events\"][\"V_m\"][1::num_class]\n",
    "#t2 = dmm[\"events\"][\"times\"][1::num_class]\n",
    "\n",
    "plt.figure(1)\n",
    "#pylab.plot(t1, np.cumsum(Vm1))\n",
    "plt.plot(tm, Vm)"
   ]
  },
  {
   "cell_type": "code",
   "execution_count": null,
   "metadata": {},
   "outputs": [],
   "source": []
  }
 ],
 "metadata": {
  "kernelspec": {
   "display_name": "Python 3",
   "language": "python",
   "name": "python3"
  },
  "language_info": {
   "codemirror_mode": {
    "name": "ipython",
    "version": 3
   },
   "file_extension": ".py",
   "mimetype": "text/x-python",
   "name": "python",
   "nbconvert_exporter": "python",
   "pygments_lexer": "ipython3",
   "version": "3.7.0"
  }
 },
 "nbformat": 4,
 "nbformat_minor": 2
}
